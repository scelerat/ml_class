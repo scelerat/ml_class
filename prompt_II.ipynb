{
 "cells": [
  {
   "cell_type": "markdown",
   "metadata": {},
   "source": [
    "# What drives the price of a car?\n",
    "\n",
    "![](images/kurt.jpeg)"
   ]
  },
  {
   "cell_type": "markdown",
   "metadata": {},
   "source": [
    "**OVERVIEW**\n",
    "\n",
    "In this application, you will explore a dataset from kaggle. The original dataset contained information on 3 million used cars. The provided dataset contains information on 426K cars to ensure speed of processing.  Your goal is to understand what factors make a car more or less expensive.  As a result of your analysis, you should provide clear recommendations to your client -- a used car dealership -- as to what consumers value in a used car."
   ]
  },
  {
   "cell_type": "markdown",
   "metadata": {},
   "source": [
    "### CRISP-DM Framework\n",
    "\n",
    "<center>\n",
    "    <img src = images/crisp.png width = 50%/>\n",
    "</center>\n",
    "\n",
    "\n",
    "To frame the task, throughout our practical applications we will refer back to a standard process in industry for data projects called CRISP-DM.  This process provides a framework for working through a data problem.  Your first step in this application will be to read through a brief overview of CRISP-DM [here](https://mo-pcco.s3.us-east-1.amazonaws.com/BH-PCMLAI/module_11/readings_starter.zip).  After reading the overview, answer the questions below."
   ]
  },
  {
   "cell_type": "markdown",
   "metadata": {},
   "source": [
    "### Business Understanding\n",
    "\n",
    "From a business perspective, we are tasked with identifying key drivers for used car prices.  In the CRISP-DM overview, we are asked to convert this business framing to a data problem definition.  Using a few sentences, reframe the task as a data task with the appropriate technical vocabulary. "
   ]
  },
  {
   "cell_type": "markdown",
   "metadata": {},
   "source": [
    "Find the attributes of used car sales to understand what the biggest contributors to a sale are."
   ]
  },
  {
   "cell_type": "code",
   "execution_count": 292,
   "metadata": {},
   "outputs": [],
   "source": [
    "import pandas as pd\n",
    "import numpy as np\n",
    "import plotly.express as px\n",
    "import matplotlib.pyplot as plt\n",
    "import seaborn as sns\n",
    "from sklearn.linear_model import LinearRegression, HuberRegressor\n",
    "from sklearn.model_selection import train_test_split\n",
    "from sklearn.preprocessing import StandardScaler\n",
    "from sklearn.model_selection import cross_val_score\n",
    "\n",
    "\n"
   ]
  },
  {
   "cell_type": "code",
   "execution_count": 7,
   "metadata": {},
   "outputs": [],
   "source": [
    "vehicles = pd.read_csv('/Users/david/Documents/berkeley machine learning class/practical_application_II_starter/data/vehicles.csv')"
   ]
  },
  {
   "cell_type": "code",
   "execution_count": 9,
   "metadata": {},
   "outputs": [
    {
     "data": {
      "text/html": [
       "<div>\n",
       "<style scoped>\n",
       "    .dataframe tbody tr th:only-of-type {\n",
       "        vertical-align: middle;\n",
       "    }\n",
       "\n",
       "    .dataframe tbody tr th {\n",
       "        vertical-align: top;\n",
       "    }\n",
       "\n",
       "    .dataframe thead th {\n",
       "        text-align: right;\n",
       "    }\n",
       "</style>\n",
       "<table border=\"1\" class=\"dataframe\">\n",
       "  <thead>\n",
       "    <tr style=\"text-align: right;\">\n",
       "      <th></th>\n",
       "      <th>id</th>\n",
       "      <th>region</th>\n",
       "      <th>price</th>\n",
       "      <th>year</th>\n",
       "      <th>manufacturer</th>\n",
       "      <th>model</th>\n",
       "      <th>condition</th>\n",
       "      <th>cylinders</th>\n",
       "      <th>fuel</th>\n",
       "      <th>odometer</th>\n",
       "      <th>title_status</th>\n",
       "      <th>transmission</th>\n",
       "      <th>VIN</th>\n",
       "      <th>drive</th>\n",
       "      <th>size</th>\n",
       "      <th>type</th>\n",
       "      <th>paint_color</th>\n",
       "      <th>state</th>\n",
       "    </tr>\n",
       "  </thead>\n",
       "  <tbody>\n",
       "    <tr>\n",
       "      <th>426875</th>\n",
       "      <td>7301591192</td>\n",
       "      <td>wyoming</td>\n",
       "      <td>23590</td>\n",
       "      <td>2019.0</td>\n",
       "      <td>nissan</td>\n",
       "      <td>maxima s sedan 4d</td>\n",
       "      <td>good</td>\n",
       "      <td>6 cylinders</td>\n",
       "      <td>gas</td>\n",
       "      <td>32226.0</td>\n",
       "      <td>clean</td>\n",
       "      <td>other</td>\n",
       "      <td>1N4AA6AV6KC367801</td>\n",
       "      <td>fwd</td>\n",
       "      <td>NaN</td>\n",
       "      <td>sedan</td>\n",
       "      <td>NaN</td>\n",
       "      <td>wy</td>\n",
       "    </tr>\n",
       "    <tr>\n",
       "      <th>426876</th>\n",
       "      <td>7301591187</td>\n",
       "      <td>wyoming</td>\n",
       "      <td>30590</td>\n",
       "      <td>2020.0</td>\n",
       "      <td>volvo</td>\n",
       "      <td>s60 t5 momentum sedan 4d</td>\n",
       "      <td>good</td>\n",
       "      <td>NaN</td>\n",
       "      <td>gas</td>\n",
       "      <td>12029.0</td>\n",
       "      <td>clean</td>\n",
       "      <td>other</td>\n",
       "      <td>7JR102FKXLG042696</td>\n",
       "      <td>fwd</td>\n",
       "      <td>NaN</td>\n",
       "      <td>sedan</td>\n",
       "      <td>red</td>\n",
       "      <td>wy</td>\n",
       "    </tr>\n",
       "    <tr>\n",
       "      <th>426877</th>\n",
       "      <td>7301591147</td>\n",
       "      <td>wyoming</td>\n",
       "      <td>34990</td>\n",
       "      <td>2020.0</td>\n",
       "      <td>cadillac</td>\n",
       "      <td>xt4 sport suv 4d</td>\n",
       "      <td>good</td>\n",
       "      <td>NaN</td>\n",
       "      <td>diesel</td>\n",
       "      <td>4174.0</td>\n",
       "      <td>clean</td>\n",
       "      <td>other</td>\n",
       "      <td>1GYFZFR46LF088296</td>\n",
       "      <td>NaN</td>\n",
       "      <td>NaN</td>\n",
       "      <td>hatchback</td>\n",
       "      <td>white</td>\n",
       "      <td>wy</td>\n",
       "    </tr>\n",
       "    <tr>\n",
       "      <th>426878</th>\n",
       "      <td>7301591140</td>\n",
       "      <td>wyoming</td>\n",
       "      <td>28990</td>\n",
       "      <td>2018.0</td>\n",
       "      <td>lexus</td>\n",
       "      <td>es 350 sedan 4d</td>\n",
       "      <td>good</td>\n",
       "      <td>6 cylinders</td>\n",
       "      <td>gas</td>\n",
       "      <td>30112.0</td>\n",
       "      <td>clean</td>\n",
       "      <td>other</td>\n",
       "      <td>58ABK1GG4JU103853</td>\n",
       "      <td>fwd</td>\n",
       "      <td>NaN</td>\n",
       "      <td>sedan</td>\n",
       "      <td>silver</td>\n",
       "      <td>wy</td>\n",
       "    </tr>\n",
       "    <tr>\n",
       "      <th>426879</th>\n",
       "      <td>7301591129</td>\n",
       "      <td>wyoming</td>\n",
       "      <td>30590</td>\n",
       "      <td>2019.0</td>\n",
       "      <td>bmw</td>\n",
       "      <td>4 series 430i gran coupe</td>\n",
       "      <td>good</td>\n",
       "      <td>NaN</td>\n",
       "      <td>gas</td>\n",
       "      <td>22716.0</td>\n",
       "      <td>clean</td>\n",
       "      <td>other</td>\n",
       "      <td>WBA4J1C58KBM14708</td>\n",
       "      <td>rwd</td>\n",
       "      <td>NaN</td>\n",
       "      <td>coupe</td>\n",
       "      <td>NaN</td>\n",
       "      <td>wy</td>\n",
       "    </tr>\n",
       "  </tbody>\n",
       "</table>\n",
       "</div>"
      ],
      "text/plain": [
       "                id   region  price    year manufacturer  \\\n",
       "426875  7301591192  wyoming  23590  2019.0       nissan   \n",
       "426876  7301591187  wyoming  30590  2020.0        volvo   \n",
       "426877  7301591147  wyoming  34990  2020.0     cadillac   \n",
       "426878  7301591140  wyoming  28990  2018.0        lexus   \n",
       "426879  7301591129  wyoming  30590  2019.0          bmw   \n",
       "\n",
       "                           model condition    cylinders    fuel  odometer  \\\n",
       "426875         maxima s sedan 4d      good  6 cylinders     gas   32226.0   \n",
       "426876  s60 t5 momentum sedan 4d      good          NaN     gas   12029.0   \n",
       "426877          xt4 sport suv 4d      good          NaN  diesel    4174.0   \n",
       "426878           es 350 sedan 4d      good  6 cylinders     gas   30112.0   \n",
       "426879  4 series 430i gran coupe      good          NaN     gas   22716.0   \n",
       "\n",
       "       title_status transmission                VIN drive size       type  \\\n",
       "426875        clean        other  1N4AA6AV6KC367801   fwd  NaN      sedan   \n",
       "426876        clean        other  7JR102FKXLG042696   fwd  NaN      sedan   \n",
       "426877        clean        other  1GYFZFR46LF088296   NaN  NaN  hatchback   \n",
       "426878        clean        other  58ABK1GG4JU103853   fwd  NaN      sedan   \n",
       "426879        clean        other  WBA4J1C58KBM14708   rwd  NaN      coupe   \n",
       "\n",
       "       paint_color state  \n",
       "426875         NaN    wy  \n",
       "426876         red    wy  \n",
       "426877       white    wy  \n",
       "426878      silver    wy  \n",
       "426879         NaN    wy  "
      ]
     },
     "execution_count": 9,
     "metadata": {},
     "output_type": "execute_result"
    }
   ],
   "source": []
  },
  {
   "cell_type": "markdown",
   "metadata": {},
   "source": [
    "### Data Understanding\n",
    "\n",
    "After considering the business understanding, we want to get familiar with our data.  Write down some steps that you would take to get to know the dataset and identify any quality issues within.  Take time to get to know the dataset and explore what information it contains and how this could be used to inform your business understanding."
   ]
  },
  {
   "cell_type": "markdown",
   "metadata": {},
   "source": []
  },
  {
   "cell_type": "code",
   "execution_count": 122,
   "metadata": {},
   "outputs": [],
   "source": [
    "percent_missing = vehicles.isnull().sum() * 100 / len(vehicles)\n",
    "missing_value_df = pd.DataFrame({'column_name': vehicles.columns,\n",
    "                                 'percent_missing': percent_missing})"
   ]
  },
  {
   "cell_type": "code",
   "execution_count": null,
   "metadata": {},
   "outputs": [],
   "source": []
  },
  {
   "cell_type": "code",
   "execution_count": 14,
   "metadata": {},
   "outputs": [
    {
     "data": {
      "text/plain": [
       "426880"
      ]
     },
     "execution_count": 14,
     "metadata": {},
     "output_type": "execute_result"
    }
   ],
   "source": []
  },
  {
   "cell_type": "code",
   "execution_count": 16,
   "metadata": {},
   "outputs": [
    {
     "name": "stdout",
     "output_type": "stream",
     "text": [
      "<class 'pandas.core.frame.DataFrame'>\n",
      "RangeIndex: 426880 entries, 0 to 426879\n",
      "Data columns (total 18 columns):\n",
      " #   Column        Non-Null Count   Dtype  \n",
      "---  ------        --------------   -----  \n",
      " 0   id            426880 non-null  int64  \n",
      " 1   region        426880 non-null  object \n",
      " 2   price         426880 non-null  int64  \n",
      " 3   year          425675 non-null  float64\n",
      " 4   manufacturer  409234 non-null  object \n",
      " 5   model         421603 non-null  object \n",
      " 6   condition     252776 non-null  object \n",
      " 7   cylinders     249202 non-null  object \n",
      " 8   fuel          423867 non-null  object \n",
      " 9   odometer      422480 non-null  float64\n",
      " 10  title_status  418638 non-null  object \n",
      " 11  transmission  424324 non-null  object \n",
      " 12  VIN           265838 non-null  object \n",
      " 13  drive         296313 non-null  object \n",
      " 14  size          120519 non-null  object \n",
      " 15  type          334022 non-null  object \n",
      " 16  paint_color   296677 non-null  object \n",
      " 17  state         426880 non-null  object \n",
      "dtypes: float64(2), int64(2), object(14)\n",
      "memory usage: 58.6+ MB\n"
     ]
    }
   ],
   "source": []
  },
  {
   "cell_type": "markdown",
   "metadata": {},
   "source": [
    "#### Year of production\n",
    "There are very incorrect values for the year. For example, multiple entries for 'corvette', a model produced by Chevrolet beginning in 1953:"
   ]
  },
  {
   "cell_type": "code",
   "execution_count": 22,
   "metadata": {
    "scrolled": true
   },
   "outputs": [
    {
     "data": {
      "text/html": [
       "<div>\n",
       "<style scoped>\n",
       "    .dataframe tbody tr th:only-of-type {\n",
       "        vertical-align: middle;\n",
       "    }\n",
       "\n",
       "    .dataframe tbody tr th {\n",
       "        vertical-align: top;\n",
       "    }\n",
       "\n",
       "    .dataframe thead th {\n",
       "        text-align: right;\n",
       "    }\n",
       "</style>\n",
       "<table border=\"1\" class=\"dataframe\">\n",
       "  <thead>\n",
       "    <tr style=\"text-align: right;\">\n",
       "      <th></th>\n",
       "      <th>id</th>\n",
       "      <th>region</th>\n",
       "      <th>price</th>\n",
       "      <th>year</th>\n",
       "      <th>manufacturer</th>\n",
       "      <th>model</th>\n",
       "      <th>condition</th>\n",
       "      <th>cylinders</th>\n",
       "      <th>fuel</th>\n",
       "      <th>odometer</th>\n",
       "      <th>title_status</th>\n",
       "      <th>transmission</th>\n",
       "      <th>VIN</th>\n",
       "      <th>drive</th>\n",
       "      <th>size</th>\n",
       "      <th>type</th>\n",
       "      <th>paint_color</th>\n",
       "      <th>state</th>\n",
       "    </tr>\n",
       "  </thead>\n",
       "  <tbody>\n",
       "    <tr>\n",
       "      <th>1698</th>\n",
       "      <td>7302752687</td>\n",
       "      <td>birmingham</td>\n",
       "      <td>0</td>\n",
       "      <td>1903.0</td>\n",
       "      <td>chevrolet</td>\n",
       "      <td>corvette</td>\n",
       "      <td>NaN</td>\n",
       "      <td>NaN</td>\n",
       "      <td>gas</td>\n",
       "      <td>NaN</td>\n",
       "      <td>clean</td>\n",
       "      <td>NaN</td>\n",
       "      <td>7275856000</td>\n",
       "      <td>NaN</td>\n",
       "      <td>NaN</td>\n",
       "      <td>other</td>\n",
       "      <td>NaN</td>\n",
       "      <td>al</td>\n",
       "    </tr>\n",
       "    <tr>\n",
       "      <th>83424</th>\n",
       "      <td>7302755836</td>\n",
       "      <td>eastern CT</td>\n",
       "      <td>0</td>\n",
       "      <td>1903.0</td>\n",
       "      <td>chevrolet</td>\n",
       "      <td>corvette</td>\n",
       "      <td>NaN</td>\n",
       "      <td>NaN</td>\n",
       "      <td>gas</td>\n",
       "      <td>NaN</td>\n",
       "      <td>clean</td>\n",
       "      <td>NaN</td>\n",
       "      <td>7275856000</td>\n",
       "      <td>NaN</td>\n",
       "      <td>NaN</td>\n",
       "      <td>other</td>\n",
       "      <td>NaN</td>\n",
       "      <td>ct</td>\n",
       "    </tr>\n",
       "    <tr>\n",
       "      <th>91911</th>\n",
       "      <td>7302753935</td>\n",
       "      <td>delaware</td>\n",
       "      <td>0</td>\n",
       "      <td>1903.0</td>\n",
       "      <td>chevrolet</td>\n",
       "      <td>corvette</td>\n",
       "      <td>NaN</td>\n",
       "      <td>NaN</td>\n",
       "      <td>gas</td>\n",
       "      <td>NaN</td>\n",
       "      <td>clean</td>\n",
       "      <td>NaN</td>\n",
       "      <td>7275856000</td>\n",
       "      <td>NaN</td>\n",
       "      <td>NaN</td>\n",
       "      <td>other</td>\n",
       "      <td>NaN</td>\n",
       "      <td>de</td>\n",
       "    </tr>\n",
       "    <tr>\n",
       "      <th>127058</th>\n",
       "      <td>7302752433</td>\n",
       "      <td>savannah / hinesville</td>\n",
       "      <td>0</td>\n",
       "      <td>1903.0</td>\n",
       "      <td>chevrolet</td>\n",
       "      <td>corvette</td>\n",
       "      <td>NaN</td>\n",
       "      <td>NaN</td>\n",
       "      <td>gas</td>\n",
       "      <td>NaN</td>\n",
       "      <td>clean</td>\n",
       "      <td>NaN</td>\n",
       "      <td>7275856000</td>\n",
       "      <td>NaN</td>\n",
       "      <td>NaN</td>\n",
       "      <td>other</td>\n",
       "      <td>NaN</td>\n",
       "      <td>ga</td>\n",
       "    </tr>\n",
       "    <tr>\n",
       "      <th>153388</th>\n",
       "      <td>7302753554</td>\n",
       "      <td>indianapolis</td>\n",
       "      <td>0</td>\n",
       "      <td>1903.0</td>\n",
       "      <td>chevrolet</td>\n",
       "      <td>corvette</td>\n",
       "      <td>NaN</td>\n",
       "      <td>NaN</td>\n",
       "      <td>gas</td>\n",
       "      <td>NaN</td>\n",
       "      <td>clean</td>\n",
       "      <td>NaN</td>\n",
       "      <td>7275856000</td>\n",
       "      <td>NaN</td>\n",
       "      <td>NaN</td>\n",
       "      <td>other</td>\n",
       "      <td>NaN</td>\n",
       "      <td>in</td>\n",
       "    </tr>\n",
       "    <tr>\n",
       "      <th>170728</th>\n",
       "      <td>7302755053</td>\n",
       "      <td>bowling green</td>\n",
       "      <td>0</td>\n",
       "      <td>1903.0</td>\n",
       "      <td>chevrolet</td>\n",
       "      <td>corvette</td>\n",
       "      <td>NaN</td>\n",
       "      <td>NaN</td>\n",
       "      <td>gas</td>\n",
       "      <td>NaN</td>\n",
       "      <td>clean</td>\n",
       "      <td>NaN</td>\n",
       "      <td>7275856000</td>\n",
       "      <td>NaN</td>\n",
       "      <td>NaN</td>\n",
       "      <td>other</td>\n",
       "      <td>NaN</td>\n",
       "      <td>ky</td>\n",
       "    </tr>\n",
       "    <tr>\n",
       "      <th>177203</th>\n",
       "      <td>7302753780</td>\n",
       "      <td>new orleans</td>\n",
       "      <td>0</td>\n",
       "      <td>1903.0</td>\n",
       "      <td>chevrolet</td>\n",
       "      <td>corvette</td>\n",
       "      <td>NaN</td>\n",
       "      <td>NaN</td>\n",
       "      <td>gas</td>\n",
       "      <td>NaN</td>\n",
       "      <td>clean</td>\n",
       "      <td>NaN</td>\n",
       "      <td>7275856000</td>\n",
       "      <td>NaN</td>\n",
       "      <td>NaN</td>\n",
       "      <td>other</td>\n",
       "      <td>NaN</td>\n",
       "      <td>la</td>\n",
       "    </tr>\n",
       "    <tr>\n",
       "      <th>223115</th>\n",
       "      <td>7302753302</td>\n",
       "      <td>springfield</td>\n",
       "      <td>0</td>\n",
       "      <td>1903.0</td>\n",
       "      <td>chevrolet</td>\n",
       "      <td>corvette</td>\n",
       "      <td>NaN</td>\n",
       "      <td>NaN</td>\n",
       "      <td>gas</td>\n",
       "      <td>NaN</td>\n",
       "      <td>clean</td>\n",
       "      <td>NaN</td>\n",
       "      <td>7275856000</td>\n",
       "      <td>NaN</td>\n",
       "      <td>NaN</td>\n",
       "      <td>other</td>\n",
       "      <td>NaN</td>\n",
       "      <td>mo</td>\n",
       "    </tr>\n",
       "    <tr>\n",
       "      <th>240104</th>\n",
       "      <td>7302755644</td>\n",
       "      <td>outer banks</td>\n",
       "      <td>0</td>\n",
       "      <td>1903.0</td>\n",
       "      <td>chevrolet</td>\n",
       "      <td>corvette</td>\n",
       "      <td>NaN</td>\n",
       "      <td>NaN</td>\n",
       "      <td>gas</td>\n",
       "      <td>NaN</td>\n",
       "      <td>clean</td>\n",
       "      <td>NaN</td>\n",
       "      <td>7275856000</td>\n",
       "      <td>NaN</td>\n",
       "      <td>NaN</td>\n",
       "      <td>other</td>\n",
       "      <td>NaN</td>\n",
       "      <td>nc</td>\n",
       "    </tr>\n",
       "    <tr>\n",
       "      <th>299698</th>\n",
       "      <td>7302754158</td>\n",
       "      <td>dayton / springfield</td>\n",
       "      <td>0</td>\n",
       "      <td>1903.0</td>\n",
       "      <td>chevrolet</td>\n",
       "      <td>corvette</td>\n",
       "      <td>NaN</td>\n",
       "      <td>NaN</td>\n",
       "      <td>gas</td>\n",
       "      <td>NaN</td>\n",
       "      <td>clean</td>\n",
       "      <td>NaN</td>\n",
       "      <td>7275856000</td>\n",
       "      <td>NaN</td>\n",
       "      <td>NaN</td>\n",
       "      <td>other</td>\n",
       "      <td>NaN</td>\n",
       "      <td>oh</td>\n",
       "    </tr>\n",
       "    <tr>\n",
       "      <th>344923</th>\n",
       "      <td>7302754395</td>\n",
       "      <td>charleston</td>\n",
       "      <td>0</td>\n",
       "      <td>1903.0</td>\n",
       "      <td>chevrolet</td>\n",
       "      <td>corvette</td>\n",
       "      <td>NaN</td>\n",
       "      <td>NaN</td>\n",
       "      <td>gas</td>\n",
       "      <td>NaN</td>\n",
       "      <td>clean</td>\n",
       "      <td>NaN</td>\n",
       "      <td>7275856000</td>\n",
       "      <td>NaN</td>\n",
       "      <td>NaN</td>\n",
       "      <td>other</td>\n",
       "      <td>NaN</td>\n",
       "      <td>sc</td>\n",
       "    </tr>\n",
       "    <tr>\n",
       "      <th>395622</th>\n",
       "      <td>7302754882</td>\n",
       "      <td>norfolk / hampton roads</td>\n",
       "      <td>0</td>\n",
       "      <td>1903.0</td>\n",
       "      <td>chevrolet</td>\n",
       "      <td>corvette</td>\n",
       "      <td>NaN</td>\n",
       "      <td>NaN</td>\n",
       "      <td>gas</td>\n",
       "      <td>NaN</td>\n",
       "      <td>clean</td>\n",
       "      <td>NaN</td>\n",
       "      <td>7275856000</td>\n",
       "      <td>NaN</td>\n",
       "      <td>NaN</td>\n",
       "      <td>other</td>\n",
       "      <td>NaN</td>\n",
       "      <td>va</td>\n",
       "    </tr>\n",
       "  </tbody>\n",
       "</table>\n",
       "</div>"
      ],
      "text/plain": [
       "                id                   region  price    year manufacturer  \\\n",
       "1698    7302752687               birmingham      0  1903.0    chevrolet   \n",
       "83424   7302755836               eastern CT      0  1903.0    chevrolet   \n",
       "91911   7302753935                 delaware      0  1903.0    chevrolet   \n",
       "127058  7302752433    savannah / hinesville      0  1903.0    chevrolet   \n",
       "153388  7302753554             indianapolis      0  1903.0    chevrolet   \n",
       "170728  7302755053            bowling green      0  1903.0    chevrolet   \n",
       "177203  7302753780              new orleans      0  1903.0    chevrolet   \n",
       "223115  7302753302              springfield      0  1903.0    chevrolet   \n",
       "240104  7302755644              outer banks      0  1903.0    chevrolet   \n",
       "299698  7302754158     dayton / springfield      0  1903.0    chevrolet   \n",
       "344923  7302754395               charleston      0  1903.0    chevrolet   \n",
       "395622  7302754882  norfolk / hampton roads      0  1903.0    chevrolet   \n",
       "\n",
       "           model condition cylinders fuel  odometer title_status transmission  \\\n",
       "1698    corvette       NaN       NaN  gas       NaN        clean          NaN   \n",
       "83424   corvette       NaN       NaN  gas       NaN        clean          NaN   \n",
       "91911   corvette       NaN       NaN  gas       NaN        clean          NaN   \n",
       "127058  corvette       NaN       NaN  gas       NaN        clean          NaN   \n",
       "153388  corvette       NaN       NaN  gas       NaN        clean          NaN   \n",
       "170728  corvette       NaN       NaN  gas       NaN        clean          NaN   \n",
       "177203  corvette       NaN       NaN  gas       NaN        clean          NaN   \n",
       "223115  corvette       NaN       NaN  gas       NaN        clean          NaN   \n",
       "240104  corvette       NaN       NaN  gas       NaN        clean          NaN   \n",
       "299698  corvette       NaN       NaN  gas       NaN        clean          NaN   \n",
       "344923  corvette       NaN       NaN  gas       NaN        clean          NaN   \n",
       "395622  corvette       NaN       NaN  gas       NaN        clean          NaN   \n",
       "\n",
       "               VIN drive size   type paint_color state  \n",
       "1698    7275856000   NaN  NaN  other         NaN    al  \n",
       "83424   7275856000   NaN  NaN  other         NaN    ct  \n",
       "91911   7275856000   NaN  NaN  other         NaN    de  \n",
       "127058  7275856000   NaN  NaN  other         NaN    ga  \n",
       "153388  7275856000   NaN  NaN  other         NaN    in  \n",
       "170728  7275856000   NaN  NaN  other         NaN    ky  \n",
       "177203  7275856000   NaN  NaN  other         NaN    la  \n",
       "223115  7275856000   NaN  NaN  other         NaN    mo  \n",
       "240104  7275856000   NaN  NaN  other         NaN    nc  \n",
       "299698  7275856000   NaN  NaN  other         NaN    oh  \n",
       "344923  7275856000   NaN  NaN  other         NaN    sc  \n",
       "395622  7275856000   NaN  NaN  other         NaN    va  "
      ]
     },
     "execution_count": 22,
     "metadata": {},
     "output_type": "execute_result"
    }
   ],
   "source": [
    "vehicles.query('model == \"corvette\" and year < 1953')"
   ]
  },
  {
   "cell_type": "markdown",
   "metadata": {},
   "source": [
    "So my suspicion here is that 1903 is some kind of default year. Other fields in these records are also blank, and they all share the same VIN. I'm going to look at all the values for 1903"
   ]
  },
  {
   "cell_type": "code",
   "execution_count": 24,
   "metadata": {},
   "outputs": [
    {
     "data": {
      "text/plain": [
       "12"
      ]
     },
     "execution_count": 24,
     "metadata": {},
     "output_type": "execute_result"
    }
   ],
   "source": [
    "len(vehicles.query('year == 1903'))"
   ]
  },
  {
   "cell_type": "markdown",
   "metadata": {},
   "source": [
    "Since it's the same number perhaps my suspicions are correct. Anything with a year of 1903 is bad data. What about other early dates?"
   ]
  },
  {
   "cell_type": "code",
   "execution_count": 45,
   "metadata": {},
   "outputs": [
    {
     "data": {
      "text/html": [
       "<div>\n",
       "<style scoped>\n",
       "    .dataframe tbody tr th:only-of-type {\n",
       "        vertical-align: middle;\n",
       "    }\n",
       "\n",
       "    .dataframe tbody tr th {\n",
       "        vertical-align: top;\n",
       "    }\n",
       "\n",
       "    .dataframe thead th {\n",
       "        text-align: right;\n",
       "    }\n",
       "</style>\n",
       "<table border=\"1\" class=\"dataframe\">\n",
       "  <thead>\n",
       "    <tr style=\"text-align: right;\">\n",
       "      <th></th>\n",
       "      <th>id</th>\n",
       "      <th>region</th>\n",
       "      <th>price</th>\n",
       "      <th>year</th>\n",
       "      <th>manufacturer</th>\n",
       "      <th>model</th>\n",
       "      <th>condition</th>\n",
       "      <th>cylinders</th>\n",
       "      <th>fuel</th>\n",
       "      <th>odometer</th>\n",
       "      <th>title_status</th>\n",
       "      <th>transmission</th>\n",
       "      <th>VIN</th>\n",
       "      <th>drive</th>\n",
       "      <th>size</th>\n",
       "      <th>type</th>\n",
       "      <th>paint_color</th>\n",
       "      <th>state</th>\n",
       "    </tr>\n",
       "  </thead>\n",
       "  <tbody>\n",
       "    <tr>\n",
       "      <th>289145</th>\n",
       "      <td>7317015363</td>\n",
       "      <td>cincinnati</td>\n",
       "      <td>3990</td>\n",
       "      <td>1905.0</td>\n",
       "      <td>chevrolet</td>\n",
       "      <td>astro cargo</td>\n",
       "      <td>excellent</td>\n",
       "      <td>8 cylinders</td>\n",
       "      <td>gas</td>\n",
       "      <td>202570.0</td>\n",
       "      <td>clean</td>\n",
       "      <td>automatic</td>\n",
       "      <td>1GCDM19XX5B120539</td>\n",
       "      <td>rwd</td>\n",
       "      <td>full-size</td>\n",
       "      <td>van</td>\n",
       "      <td>white</td>\n",
       "      <td>oh</td>\n",
       "    </tr>\n",
       "    <tr>\n",
       "      <th>322057</th>\n",
       "      <td>7316907319</td>\n",
       "      <td>portland</td>\n",
       "      <td>15000</td>\n",
       "      <td>1910.0</td>\n",
       "      <td>NaN</td>\n",
       "      <td>1910 MAXWELL AA</td>\n",
       "      <td>excellent</td>\n",
       "      <td>other</td>\n",
       "      <td>gas</td>\n",
       "      <td>1.0</td>\n",
       "      <td>clean</td>\n",
       "      <td>manual</td>\n",
       "      <td>NaN</td>\n",
       "      <td>NaN</td>\n",
       "      <td>NaN</td>\n",
       "      <td>convertible</td>\n",
       "      <td>red</td>\n",
       "      <td>or</td>\n",
       "    </tr>\n",
       "    <tr>\n",
       "      <th>383491</th>\n",
       "      <td>7310975905</td>\n",
       "      <td>tyler / east TX</td>\n",
       "      <td>750</td>\n",
       "      <td>1909.0</td>\n",
       "      <td>NaN</td>\n",
       "      <td>Mitsubshi FBC15K</td>\n",
       "      <td>salvage</td>\n",
       "      <td>other</td>\n",
       "      <td>electric</td>\n",
       "      <td>999999.0</td>\n",
       "      <td>missing</td>\n",
       "      <td>automatic</td>\n",
       "      <td>NaN</td>\n",
       "      <td>NaN</td>\n",
       "      <td>full-size</td>\n",
       "      <td>other</td>\n",
       "      <td>custom</td>\n",
       "      <td>tx</td>\n",
       "    </tr>\n",
       "    <tr>\n",
       "      <th>407763</th>\n",
       "      <td>7316913715</td>\n",
       "      <td>seattle-tacoma</td>\n",
       "      <td>15000</td>\n",
       "      <td>1910.0</td>\n",
       "      <td>NaN</td>\n",
       "      <td>maxwell Aa</td>\n",
       "      <td>excellent</td>\n",
       "      <td>other</td>\n",
       "      <td>gas</td>\n",
       "      <td>100.0</td>\n",
       "      <td>clean</td>\n",
       "      <td>manual</td>\n",
       "      <td>NaN</td>\n",
       "      <td>NaN</td>\n",
       "      <td>NaN</td>\n",
       "      <td>convertible</td>\n",
       "      <td>red</td>\n",
       "      <td>wa</td>\n",
       "    </tr>\n",
       "  </tbody>\n",
       "</table>\n",
       "</div>"
      ],
      "text/plain": [
       "                id           region  price    year manufacturer  \\\n",
       "289145  7317015363       cincinnati   3990  1905.0    chevrolet   \n",
       "322057  7316907319         portland  15000  1910.0          NaN   \n",
       "383491  7310975905  tyler / east TX    750  1909.0          NaN   \n",
       "407763  7316913715   seattle-tacoma  15000  1910.0          NaN   \n",
       "\n",
       "                   model  condition    cylinders      fuel  odometer  \\\n",
       "289145       astro cargo  excellent  8 cylinders       gas  202570.0   \n",
       "322057   1910 MAXWELL AA  excellent        other       gas       1.0   \n",
       "383491  Mitsubshi FBC15K    salvage        other  electric  999999.0   \n",
       "407763        maxwell Aa  excellent        other       gas     100.0   \n",
       "\n",
       "       title_status transmission                VIN drive       size  \\\n",
       "289145        clean    automatic  1GCDM19XX5B120539   rwd  full-size   \n",
       "322057        clean       manual                NaN   NaN        NaN   \n",
       "383491      missing    automatic                NaN   NaN  full-size   \n",
       "407763        clean       manual                NaN   NaN        NaN   \n",
       "\n",
       "               type paint_color state  \n",
       "289145          van       white    oh  \n",
       "322057  convertible         red    or  \n",
       "383491        other      custom    tx  \n",
       "407763  convertible         red    wa  "
      ]
     },
     "execution_count": 45,
     "metadata": {},
     "output_type": "execute_result"
    }
   ],
   "source": [
    "vehicles.query('year > 1903 and year < 1911')"
   ]
  },
  {
   "cell_type": "markdown",
   "metadata": {},
   "source": [
    "So we're going to drop all the rows where the year is null or 1903"
   ]
  },
  {
   "cell_type": "code",
   "execution_count": 35,
   "metadata": {},
   "outputs": [],
   "source": [
    "vehicles.dropna(subset=['year'], inplace=True)\n",
    "vehicles = vehicles[ vehicles['year'] != 1903 ]"
   ]
  },
  {
   "cell_type": "markdown",
   "metadata": {},
   "source": [
    "There are some other issues with year, for example, this vehicle with year 1905, but seems to be an automatic transmission Chevy Astro, a model which was instroduced in 1985. Perhaps the year here is a typo or an OCR error, given the year being off by one digit. For now we're going to ignore it, because there may be a number of transcription errors throughout the data set which, without a more sophisticated review of the data (perhaps referencing model names with years of introduction), would require us to inspect the entire set manually. "
   ]
  },
  {
   "cell_type": "code",
   "execution_count": 48,
   "metadata": {},
   "outputs": [
    {
     "data": {
      "text/html": [
       "<div>\n",
       "<style scoped>\n",
       "    .dataframe tbody tr th:only-of-type {\n",
       "        vertical-align: middle;\n",
       "    }\n",
       "\n",
       "    .dataframe tbody tr th {\n",
       "        vertical-align: top;\n",
       "    }\n",
       "\n",
       "    .dataframe thead th {\n",
       "        text-align: right;\n",
       "    }\n",
       "</style>\n",
       "<table border=\"1\" class=\"dataframe\">\n",
       "  <thead>\n",
       "    <tr style=\"text-align: right;\">\n",
       "      <th></th>\n",
       "      <th>id</th>\n",
       "      <th>region</th>\n",
       "      <th>price</th>\n",
       "      <th>year</th>\n",
       "      <th>manufacturer</th>\n",
       "      <th>model</th>\n",
       "      <th>condition</th>\n",
       "      <th>cylinders</th>\n",
       "      <th>fuel</th>\n",
       "      <th>odometer</th>\n",
       "      <th>title_status</th>\n",
       "      <th>transmission</th>\n",
       "      <th>VIN</th>\n",
       "      <th>drive</th>\n",
       "      <th>size</th>\n",
       "      <th>type</th>\n",
       "      <th>paint_color</th>\n",
       "      <th>state</th>\n",
       "    </tr>\n",
       "  </thead>\n",
       "  <tbody>\n",
       "    <tr>\n",
       "      <th>289145</th>\n",
       "      <td>7317015363</td>\n",
       "      <td>cincinnati</td>\n",
       "      <td>3990</td>\n",
       "      <td>1905.0</td>\n",
       "      <td>chevrolet</td>\n",
       "      <td>astro cargo</td>\n",
       "      <td>excellent</td>\n",
       "      <td>8 cylinders</td>\n",
       "      <td>gas</td>\n",
       "      <td>202570.0</td>\n",
       "      <td>clean</td>\n",
       "      <td>automatic</td>\n",
       "      <td>1GCDM19XX5B120539</td>\n",
       "      <td>rwd</td>\n",
       "      <td>full-size</td>\n",
       "      <td>van</td>\n",
       "      <td>white</td>\n",
       "      <td>oh</td>\n",
       "    </tr>\n",
       "  </tbody>\n",
       "</table>\n",
       "</div>"
      ],
      "text/plain": [
       "                id      region  price    year manufacturer        model  \\\n",
       "289145  7317015363  cincinnati   3990  1905.0    chevrolet  astro cargo   \n",
       "\n",
       "        condition    cylinders fuel  odometer title_status transmission  \\\n",
       "289145  excellent  8 cylinders  gas  202570.0        clean    automatic   \n",
       "\n",
       "                      VIN drive       size type paint_color state  \n",
       "289145  1GCDM19XX5B120539   rwd  full-size  van       white    oh  "
      ]
     },
     "execution_count": 48,
     "metadata": {},
     "output_type": "execute_result"
    }
   ],
   "source": [
    "vehicles.query(\"id == 7317015363\")"
   ]
  },
  {
   "cell_type": "markdown",
   "metadata": {},
   "source": [
    "#### Vehicle condition\n",
    "We see that vehicle condition is some kind of category with a small set of possible values."
   ]
  },
  {
   "cell_type": "code",
   "execution_count": 43,
   "metadata": {},
   "outputs": [
    {
     "data": {
      "text/plain": [
       "array(['good', 'excellent', 'fair', nan, 'like new', 'new', 'salvage'],\n",
       "      dtype=object)"
      ]
     },
     "execution_count": 43,
     "metadata": {},
     "output_type": "execute_result"
    }
   ],
   "source": [
    "vehicles['condition'].unique()"
   ]
  },
  {
   "cell_type": "markdown",
   "metadata": {},
   "source": [
    "We'll convert anything not already a string (i.e. the NaN value) into a string 'other', making the value of the whole column a string."
   ]
  },
  {
   "cell_type": "code",
   "execution_count": 54,
   "metadata": {},
   "outputs": [
    {
     "data": {
      "text/plain": [
       "['good', 'excellent', 'fair', 'like new', 'new', 'salvage']"
      ]
     },
     "execution_count": 54,
     "metadata": {},
     "output_type": "execute_result"
    }
   ],
   "source": [
    "[s for s in vehicles['condition'].unique() if type(s) == type('str')]"
   ]
  },
  {
   "cell_type": "code",
   "execution_count": 67,
   "metadata": {},
   "outputs": [
    {
     "name": "stderr",
     "output_type": "stream",
     "text": [
      "/var/folders/3n/wcrpdgxx6jz_gpc28s29jglh0000gn/T/ipykernel_95060/1234696681.py:7: SettingWithCopyWarning: \n",
      "A value is trying to be set on a copy of a slice from a DataFrame.\n",
      "Try using .loc[row_indexer,col_indexer] = value instead\n",
      "\n",
      "See the caveats in the documentation: https://pandas.pydata.org/pandas-docs/stable/user_guide/indexing.html#returning-a-view-versus-a-copy\n",
      "  vehicles['condition'] = vehicles['condition'].apply(convert_nonstring_to_other)\n"
     ]
    },
    {
     "data": {
      "text/plain": [
       "array(['good', 'excellent', 'fair', 'other', 'like new', 'new', 'salvage'],\n",
       "      dtype=object)"
      ]
     },
     "execution_count": 67,
     "metadata": {},
     "output_type": "execute_result"
    }
   ],
   "source": [
    "def convert_nonstring_to_other(x):\n",
    "    if type(x) != type('str'):\n",
    "        return 'other'\n",
    "    else:\n",
    "        return x\n",
    "\n",
    "vehicles['condition'] = vehicles['condition'].apply(convert_nonstring_to_other)\n",
    "\n",
    "vehicles['condition'].unique()"
   ]
  },
  {
   "cell_type": "code",
   "execution_count": 71,
   "metadata": {},
   "outputs": [
    {
     "data": {
      "text/plain": [
       "0"
      ]
     },
     "execution_count": 71,
     "metadata": {},
     "output_type": "execute_result"
    }
   ],
   "source": [
    "len(vehicles['condition']) - len(vehicles['condition'].isna())"
   ]
  },
  {
   "cell_type": "markdown",
   "metadata": {},
   "source": [
    "#### Paint color \n",
    "paint_color could be a similar categorical case"
   ]
  },
  {
   "cell_type": "code",
   "execution_count": 72,
   "metadata": {},
   "outputs": [
    {
     "data": {
      "text/plain": [
       "array(['white', 'blue', 'red', 'black', 'silver', 'grey', nan, 'brown',\n",
       "       'yellow', 'orange', 'green', 'custom', 'purple'], dtype=object)"
      ]
     },
     "execution_count": 72,
     "metadata": {},
     "output_type": "execute_result"
    }
   ],
   "source": [
    "vehicles['paint_color'].unique()"
   ]
  },
  {
   "cell_type": "code",
   "execution_count": 73,
   "metadata": {},
   "outputs": [],
   "source": [
    "def convert_nonstring_to_unknown(x):\n",
    "    if type(x) != type('str'):\n",
    "        return 'unknown'\n",
    "    else:\n",
    "        return x"
   ]
  },
  {
   "cell_type": "code",
   "execution_count": 75,
   "metadata": {},
   "outputs": [
    {
     "name": "stderr",
     "output_type": "stream",
     "text": [
      "/var/folders/3n/wcrpdgxx6jz_gpc28s29jglh0000gn/T/ipykernel_95060/979462163.py:1: SettingWithCopyWarning: \n",
      "A value is trying to be set on a copy of a slice from a DataFrame.\n",
      "Try using .loc[row_indexer,col_indexer] = value instead\n",
      "\n",
      "See the caveats in the documentation: https://pandas.pydata.org/pandas-docs/stable/user_guide/indexing.html#returning-a-view-versus-a-copy\n",
      "  vehicles['paint_color'] = vehicles['paint_color'].apply(convert_nonstring_to_unknown)\n"
     ]
    }
   ],
   "source": [
    "vehicles['paint_color'] = vehicles['paint_color'].apply(convert_nonstring_to_unknown)"
   ]
  },
  {
   "cell_type": "code",
   "execution_count": 76,
   "metadata": {},
   "outputs": [
    {
     "data": {
      "text/plain": [
       "array(['white', 'blue', 'red', 'black', 'silver', 'grey', 'unknown',\n",
       "       'brown', 'yellow', 'orange', 'green', 'custom', 'purple'],\n",
       "      dtype=object)"
      ]
     },
     "execution_count": 76,
     "metadata": {},
     "output_type": "execute_result"
    }
   ],
   "source": [
    "vehicles['paint_color'].unique()"
   ]
  },
  {
   "cell_type": "code",
   "execution_count": 81,
   "metadata": {},
   "outputs": [
    {
     "data": {
      "text/plain": [
       "array(['pickup', 'truck', 'other', nan, 'coupe', 'SUV', 'hatchback',\n",
       "       'mini-van', 'sedan', 'offroad', 'bus', 'van', 'convertible',\n",
       "       'wagon'], dtype=object)"
      ]
     },
     "execution_count": 81,
     "metadata": {},
     "output_type": "execute_result"
    }
   ],
   "source": [
    "vehicles['type'].unique()"
   ]
  },
  {
   "cell_type": "code",
   "execution_count": 82,
   "metadata": {},
   "outputs": [
    {
     "name": "stderr",
     "output_type": "stream",
     "text": [
      "/var/folders/3n/wcrpdgxx6jz_gpc28s29jglh0000gn/T/ipykernel_95060/980769075.py:1: SettingWithCopyWarning: \n",
      "A value is trying to be set on a copy of a slice from a DataFrame.\n",
      "Try using .loc[row_indexer,col_indexer] = value instead\n",
      "\n",
      "See the caveats in the documentation: https://pandas.pydata.org/pandas-docs/stable/user_guide/indexing.html#returning-a-view-versus-a-copy\n",
      "  vehicles['type'] = vehicles['type'].apply(convert_nonstring_to_unknown)\n"
     ]
    }
   ],
   "source": [
    "vehicles['type'] = vehicles['type'].apply(convert_nonstring_to_unknown)"
   ]
  },
  {
   "cell_type": "code",
   "execution_count": null,
   "metadata": {},
   "outputs": [],
   "source": []
  },
  {
   "cell_type": "code",
   "execution_count": 87,
   "metadata": {},
   "outputs": [
    {
     "name": "stderr",
     "output_type": "stream",
     "text": [
      "/var/folders/3n/wcrpdgxx6jz_gpc28s29jglh0000gn/T/ipykernel_95060/3750209431.py:1: SettingWithCopyWarning: \n",
      "A value is trying to be set on a copy of a slice from a DataFrame.\n",
      "Try using .loc[row_indexer,col_indexer] = value instead\n",
      "\n",
      "See the caveats in the documentation: https://pandas.pydata.org/pandas-docs/stable/user_guide/indexing.html#returning-a-view-versus-a-copy\n",
      "  vehicles['size'] = vehicles['size'].apply(convert_nonstring_to_unknown)\n"
     ]
    }
   ],
   "source": [
    "vehicles['size'] = vehicles['size'].apply(convert_nonstring_to_unknown)"
   ]
  },
  {
   "cell_type": "code",
   "execution_count": 106,
   "metadata": {},
   "outputs": [
    {
     "name": "stderr",
     "output_type": "stream",
     "text": [
      "/var/folders/3n/wcrpdgxx6jz_gpc28s29jglh0000gn/T/ipykernel_95060/4170043935.py:2: SettingWithCopyWarning: \n",
      "A value is trying to be set on a copy of a slice from a DataFrame.\n",
      "Try using .loc[row_indexer,col_indexer] = value instead\n",
      "\n",
      "See the caveats in the documentation: https://pandas.pydata.org/pandas-docs/stable/user_guide/indexing.html#returning-a-view-versus-a-copy\n",
      "  vehicles['manufacturer'] = vehicles['manufacturer'].apply(convert_nonstring_to_unknown)\n"
     ]
    },
    {
     "data": {
      "text/plain": [
       "array(['gmc', 'chevrolet', 'toyota', 'ford', 'jeep', 'nissan', 'ram',\n",
       "       'mazda', 'cadillac', 'honda', 'dodge', 'lexus', 'jaguar', 'buick',\n",
       "       'chrysler', 'volvo', 'audi', 'infiniti', 'lincoln', 'alfa-romeo',\n",
       "       'subaru', 'unknown', 'acura', 'hyundai', 'mercedes-benz', 'bmw',\n",
       "       'mitsubishi', 'volkswagen', 'porsche', 'kia', 'rover', 'ferrari',\n",
       "       'mini', 'pontiac', 'fiat', 'tesla', 'saturn', 'mercury',\n",
       "       'harley-davidson', 'datsun', 'aston-martin', 'land rover',\n",
       "       'morgan'], dtype=object)"
      ]
     },
     "execution_count": 106,
     "metadata": {},
     "output_type": "execute_result"
    }
   ],
   "source": [
    "vehicles['drive'].unique()\n",
    "vehicles['manufacturer'] = vehicles['manufacturer'].apply(convert_nonstring_to_unknown)\n",
    "vehicles['manufacturer'].unique()"
   ]
  },
  {
   "cell_type": "code",
   "execution_count": 111,
   "metadata": {},
   "outputs": [
    {
     "name": "stderr",
     "output_type": "stream",
     "text": [
      "/var/folders/3n/wcrpdgxx6jz_gpc28s29jglh0000gn/T/ipykernel_95060/4128624133.py:1: SettingWithCopyWarning: \n",
      "A value is trying to be set on a copy of a slice from a DataFrame.\n",
      "Try using .loc[row_indexer,col_indexer] = value instead\n",
      "\n",
      "See the caveats in the documentation: https://pandas.pydata.org/pandas-docs/stable/user_guide/indexing.html#returning-a-view-versus-a-copy\n",
      "  vehicles['model'] = vehicles['model'].apply(convert_nonstring_to_unknown)\n",
      "/var/folders/3n/wcrpdgxx6jz_gpc28s29jglh0000gn/T/ipykernel_95060/4128624133.py:2: SettingWithCopyWarning: \n",
      "A value is trying to be set on a copy of a slice from a DataFrame.\n",
      "Try using .loc[row_indexer,col_indexer] = value instead\n",
      "\n",
      "See the caveats in the documentation: https://pandas.pydata.org/pandas-docs/stable/user_guide/indexing.html#returning-a-view-versus-a-copy\n",
      "  vehicles['cylinders'] = vehicles['cylinders'].apply(convert_nonstring_to_unknown)\n"
     ]
    }
   ],
   "source": [
    "vehicles['model'] = vehicles['model'].apply(convert_nonstring_to_unknown)\n",
    "vehicles['cylinders'] = vehicles['cylinders'].apply(convert_nonstring_to_unknown)"
   ]
  },
  {
   "cell_type": "code",
   "execution_count": 114,
   "metadata": {},
   "outputs": [
    {
     "name": "stderr",
     "output_type": "stream",
     "text": [
      "/var/folders/3n/wcrpdgxx6jz_gpc28s29jglh0000gn/T/ipykernel_95060/2686546260.py:1: SettingWithCopyWarning: \n",
      "A value is trying to be set on a copy of a slice from a DataFrame.\n",
      "Try using .loc[row_indexer,col_indexer] = value instead\n",
      "\n",
      "See the caveats in the documentation: https://pandas.pydata.org/pandas-docs/stable/user_guide/indexing.html#returning-a-view-versus-a-copy\n",
      "  vehicles['fuel'] = vehicles['fuel'].apply(convert_nonstring_to_unknown)\n"
     ]
    }
   ],
   "source": [
    "vehicles['fuel'] = vehicles['fuel'].apply(convert_nonstring_to_unknown)"
   ]
  },
  {
   "cell_type": "raw",
   "metadata": {},
   "source": [
    "Drop nulls"
   ]
  },
  {
   "cell_type": "code",
   "execution_count": 121,
   "metadata": {},
   "outputs": [],
   "source": [
    "vehicles = vehicles.dropna()\n"
   ]
  },
  {
   "cell_type": "markdown",
   "metadata": {},
   "source": [
    "Drop the VIN since that doesn't matter"
   ]
  },
  {
   "cell_type": "code",
   "execution_count": 124,
   "metadata": {},
   "outputs": [],
   "source": [
    "vehicles = vehicles.drop('VIN', axis=1)"
   ]
  },
  {
   "cell_type": "code",
   "execution_count": 128,
   "metadata": {},
   "outputs": [],
   "source": [
    "vehicles['year'] = vehicles['year'].astype('int')"
   ]
  },
  {
   "cell_type": "markdown",
   "metadata": {},
   "source": [
    "Individually pluck out a lot of bad price rows. Eg '12345678'; million-dollar vehicles, etc. Can believe a >$300K ferrari or porsche; not a Dodge Journey which retails new for $20K"
   ]
  },
  {
   "cell_type": "code",
   "execution_count": 177,
   "metadata": {},
   "outputs": [],
   "source": [
    "poorly_priced_ids = [\n",
    "    7308297502, \n",
    "    7314124996, \n",
    "    7315524207, \n",
    "    7307876060, \n",
    "    7316737396, \n",
    "    7302113550, \n",
    "    7302112231,\n",
    "    7316736586,\n",
    "    7302117601\n",
    "]\n",
    "vehicles.drop(vehicles[ (vehicles['price'].astype('str').str.startswith('12345')) ].index, inplace=True)\n",
    "vehicles.drop(vehicles[ vehicles['id'].isin(poorly_priced_ids) ].index, inplace=True)"
   ]
  },
  {
   "cell_type": "markdown",
   "metadata": {},
   "source": [
    "Yeah, gonna get rid of a whole bunch of incongruous values -- 'new' and 'like new' cars with more than 300000. If I'm doing data analytics for a used car dealership I'll wait for them to tell me I'm wrong here, otherwise this looks like bad data."
   ]
  },
  {
   "cell_type": "code",
   "execution_count": 295,
   "metadata": {},
   "outputs": [
    {
     "data": {
      "text/plain": [
       "0"
      ]
     },
     "execution_count": 295,
     "metadata": {},
     "output_type": "execute_result"
    }
   ],
   "source": [
    "suspicious_condition = ['new', 'like new']\n",
    "len(vehicles.query('condition in @suspicious_condition and odometer > 200000'))"
   ]
  },
  {
   "cell_type": "code",
   "execution_count": 186,
   "metadata": {},
   "outputs": [],
   "source": [
    "vehicles.drop(vehicles.query('condition in @suspicious_condition and odometer > 200000').index, inplace=True)\n"
   ]
  },
  {
   "cell_type": "code",
   "execution_count": 202,
   "metadata": {},
   "outputs": [
    {
     "data": {
      "text/plain": [
       "array(['sierra 1500 crew cab slt', 'silverado 1500',\n",
       "       'silverado 1500 crew', 'tundra double cab sr',\n",
       "       'sierra 2500 hd extended cab', 'silverado 1500 double',\n",
       "       'colorado extended cab', 'corvette grand sport',\n",
       "       'wrangler unlimited sport', 'silverado 1500 regular',\n",
       "       'colorado crew cab z71', 'tacoma access cab pickup',\n",
       "       'camaro ss coupe 2d', 'tundra crewmax sr5 pickup',\n",
       "       'ranger supercrew xl pickup', 'frontier crew cab pro-4x',\n",
       "       'f150 super cab xl pickup 4d', 'tacoma double cab sr5',\n",
       "       'wrangler sport suv 2d', 'f150 supercrew cab xlt'], dtype=object)"
      ]
     },
     "execution_count": 202,
     "metadata": {},
     "output_type": "execute_result"
    }
   ],
   "source": [
    "models = vehicles.model.unique()\n",
    "models[:20]"
   ]
  },
  {
   "cell_type": "markdown",
   "metadata": {},
   "source": [
    "We're also going to drop the models column because it's a data cleanup nightmare. There are trim levels mixed in with base models, mixed in with data that has nothing to do with the model."
   ]
  },
  {
   "cell_type": "code",
   "execution_count": 204,
   "metadata": {},
   "outputs": [],
   "source": [
    "vehicles.drop(columns=['model'], inplace=True)"
   ]
  },
  {
   "cell_type": "code",
   "execution_count": 193,
   "metadata": {},
   "outputs": [],
   "source": []
  },
  {
   "cell_type": "markdown",
   "metadata": {},
   "source": [
    "### Data Preparation\n",
    "\n",
    "After our initial exploration and fine tuning of the business understanding, it is time to construct our final dataset prior to modeling.  Here, we want to make sure to handle any integrity issues and cleaning, the engineering of new features, any transformations that we believe should happen (scaling, logarithms, normalization, etc.), and general preparation for modeling with `sklearn`. "
   ]
  },
  {
   "cell_type": "markdown",
   "metadata": {},
   "source": [
    "1. Make sure the data is in a format which can be imported.\n",
    "2. import the data to a pandas data frame\n",
    "3. look at the head() of the data frame to see what kind of data is in the data set\n",
    "4. run df.info() on the data set to see what that tells us\n",
    "5. compare various columns to car sales using pandas.corr\n",
    "6. plot values\n",
    "7. remove rows with nulls (dropna)\n",
    "8. look for periodic data if there is some time series component\n",
    "9. remove outliers\n"
   ]
  },
  {
   "cell_type": "code",
   "execution_count": 218,
   "metadata": {},
   "outputs": [],
   "source": [
    "# predictions based on manufacturer alone\n",
    "# dummies\n",
    "manu_encoded = pd.get_dummies(vehicles['manufacturer'])\n"
   ]
  },
  {
   "cell_type": "code",
   "execution_count": 219,
   "metadata": {},
   "outputs": [
    {
     "data": {
      "text/html": [
       "<div>\n",
       "<style scoped>\n",
       "    .dataframe tbody tr th:only-of-type {\n",
       "        vertical-align: middle;\n",
       "    }\n",
       "\n",
       "    .dataframe tbody tr th {\n",
       "        vertical-align: top;\n",
       "    }\n",
       "\n",
       "    .dataframe thead th {\n",
       "        text-align: right;\n",
       "    }\n",
       "</style>\n",
       "<table border=\"1\" class=\"dataframe\">\n",
       "  <thead>\n",
       "    <tr style=\"text-align: right;\">\n",
       "      <th></th>\n",
       "      <th>acura</th>\n",
       "      <th>alfa-romeo</th>\n",
       "      <th>aston-martin</th>\n",
       "      <th>audi</th>\n",
       "      <th>bmw</th>\n",
       "      <th>buick</th>\n",
       "      <th>cadillac</th>\n",
       "      <th>chevrolet</th>\n",
       "      <th>chrysler</th>\n",
       "      <th>datsun</th>\n",
       "      <th>...</th>\n",
       "      <th>porsche</th>\n",
       "      <th>ram</th>\n",
       "      <th>rover</th>\n",
       "      <th>saturn</th>\n",
       "      <th>subaru</th>\n",
       "      <th>tesla</th>\n",
       "      <th>toyota</th>\n",
       "      <th>unknown</th>\n",
       "      <th>volkswagen</th>\n",
       "      <th>volvo</th>\n",
       "    </tr>\n",
       "  </thead>\n",
       "  <tbody>\n",
       "    <tr>\n",
       "      <th>27</th>\n",
       "      <td>0</td>\n",
       "      <td>0</td>\n",
       "      <td>0</td>\n",
       "      <td>0</td>\n",
       "      <td>0</td>\n",
       "      <td>0</td>\n",
       "      <td>0</td>\n",
       "      <td>0</td>\n",
       "      <td>0</td>\n",
       "      <td>0</td>\n",
       "      <td>...</td>\n",
       "      <td>0</td>\n",
       "      <td>0</td>\n",
       "      <td>0</td>\n",
       "      <td>0</td>\n",
       "      <td>0</td>\n",
       "      <td>0</td>\n",
       "      <td>0</td>\n",
       "      <td>0</td>\n",
       "      <td>0</td>\n",
       "      <td>0</td>\n",
       "    </tr>\n",
       "    <tr>\n",
       "      <th>28</th>\n",
       "      <td>0</td>\n",
       "      <td>0</td>\n",
       "      <td>0</td>\n",
       "      <td>0</td>\n",
       "      <td>0</td>\n",
       "      <td>0</td>\n",
       "      <td>0</td>\n",
       "      <td>1</td>\n",
       "      <td>0</td>\n",
       "      <td>0</td>\n",
       "      <td>...</td>\n",
       "      <td>0</td>\n",
       "      <td>0</td>\n",
       "      <td>0</td>\n",
       "      <td>0</td>\n",
       "      <td>0</td>\n",
       "      <td>0</td>\n",
       "      <td>0</td>\n",
       "      <td>0</td>\n",
       "      <td>0</td>\n",
       "      <td>0</td>\n",
       "    </tr>\n",
       "    <tr>\n",
       "      <th>29</th>\n",
       "      <td>0</td>\n",
       "      <td>0</td>\n",
       "      <td>0</td>\n",
       "      <td>0</td>\n",
       "      <td>0</td>\n",
       "      <td>0</td>\n",
       "      <td>0</td>\n",
       "      <td>1</td>\n",
       "      <td>0</td>\n",
       "      <td>0</td>\n",
       "      <td>...</td>\n",
       "      <td>0</td>\n",
       "      <td>0</td>\n",
       "      <td>0</td>\n",
       "      <td>0</td>\n",
       "      <td>0</td>\n",
       "      <td>0</td>\n",
       "      <td>0</td>\n",
       "      <td>0</td>\n",
       "      <td>0</td>\n",
       "      <td>0</td>\n",
       "    </tr>\n",
       "    <tr>\n",
       "      <th>30</th>\n",
       "      <td>0</td>\n",
       "      <td>0</td>\n",
       "      <td>0</td>\n",
       "      <td>0</td>\n",
       "      <td>0</td>\n",
       "      <td>0</td>\n",
       "      <td>0</td>\n",
       "      <td>0</td>\n",
       "      <td>0</td>\n",
       "      <td>0</td>\n",
       "      <td>...</td>\n",
       "      <td>0</td>\n",
       "      <td>0</td>\n",
       "      <td>0</td>\n",
       "      <td>0</td>\n",
       "      <td>0</td>\n",
       "      <td>0</td>\n",
       "      <td>1</td>\n",
       "      <td>0</td>\n",
       "      <td>0</td>\n",
       "      <td>0</td>\n",
       "    </tr>\n",
       "    <tr>\n",
       "      <th>32</th>\n",
       "      <td>0</td>\n",
       "      <td>0</td>\n",
       "      <td>0</td>\n",
       "      <td>0</td>\n",
       "      <td>0</td>\n",
       "      <td>0</td>\n",
       "      <td>0</td>\n",
       "      <td>0</td>\n",
       "      <td>0</td>\n",
       "      <td>0</td>\n",
       "      <td>...</td>\n",
       "      <td>0</td>\n",
       "      <td>0</td>\n",
       "      <td>0</td>\n",
       "      <td>0</td>\n",
       "      <td>0</td>\n",
       "      <td>0</td>\n",
       "      <td>0</td>\n",
       "      <td>0</td>\n",
       "      <td>0</td>\n",
       "      <td>0</td>\n",
       "    </tr>\n",
       "    <tr>\n",
       "      <th>...</th>\n",
       "      <td>...</td>\n",
       "      <td>...</td>\n",
       "      <td>...</td>\n",
       "      <td>...</td>\n",
       "      <td>...</td>\n",
       "      <td>...</td>\n",
       "      <td>...</td>\n",
       "      <td>...</td>\n",
       "      <td>...</td>\n",
       "      <td>...</td>\n",
       "      <td>...</td>\n",
       "      <td>...</td>\n",
       "      <td>...</td>\n",
       "      <td>...</td>\n",
       "      <td>...</td>\n",
       "      <td>...</td>\n",
       "      <td>...</td>\n",
       "      <td>...</td>\n",
       "      <td>...</td>\n",
       "      <td>...</td>\n",
       "      <td>...</td>\n",
       "    </tr>\n",
       "    <tr>\n",
       "      <th>426875</th>\n",
       "      <td>0</td>\n",
       "      <td>0</td>\n",
       "      <td>0</td>\n",
       "      <td>0</td>\n",
       "      <td>0</td>\n",
       "      <td>0</td>\n",
       "      <td>0</td>\n",
       "      <td>0</td>\n",
       "      <td>0</td>\n",
       "      <td>0</td>\n",
       "      <td>...</td>\n",
       "      <td>0</td>\n",
       "      <td>0</td>\n",
       "      <td>0</td>\n",
       "      <td>0</td>\n",
       "      <td>0</td>\n",
       "      <td>0</td>\n",
       "      <td>0</td>\n",
       "      <td>0</td>\n",
       "      <td>0</td>\n",
       "      <td>0</td>\n",
       "    </tr>\n",
       "    <tr>\n",
       "      <th>426876</th>\n",
       "      <td>0</td>\n",
       "      <td>0</td>\n",
       "      <td>0</td>\n",
       "      <td>0</td>\n",
       "      <td>0</td>\n",
       "      <td>0</td>\n",
       "      <td>0</td>\n",
       "      <td>0</td>\n",
       "      <td>0</td>\n",
       "      <td>0</td>\n",
       "      <td>...</td>\n",
       "      <td>0</td>\n",
       "      <td>0</td>\n",
       "      <td>0</td>\n",
       "      <td>0</td>\n",
       "      <td>0</td>\n",
       "      <td>0</td>\n",
       "      <td>0</td>\n",
       "      <td>0</td>\n",
       "      <td>0</td>\n",
       "      <td>1</td>\n",
       "    </tr>\n",
       "    <tr>\n",
       "      <th>426877</th>\n",
       "      <td>0</td>\n",
       "      <td>0</td>\n",
       "      <td>0</td>\n",
       "      <td>0</td>\n",
       "      <td>0</td>\n",
       "      <td>0</td>\n",
       "      <td>1</td>\n",
       "      <td>0</td>\n",
       "      <td>0</td>\n",
       "      <td>0</td>\n",
       "      <td>...</td>\n",
       "      <td>0</td>\n",
       "      <td>0</td>\n",
       "      <td>0</td>\n",
       "      <td>0</td>\n",
       "      <td>0</td>\n",
       "      <td>0</td>\n",
       "      <td>0</td>\n",
       "      <td>0</td>\n",
       "      <td>0</td>\n",
       "      <td>0</td>\n",
       "    </tr>\n",
       "    <tr>\n",
       "      <th>426878</th>\n",
       "      <td>0</td>\n",
       "      <td>0</td>\n",
       "      <td>0</td>\n",
       "      <td>0</td>\n",
       "      <td>0</td>\n",
       "      <td>0</td>\n",
       "      <td>0</td>\n",
       "      <td>0</td>\n",
       "      <td>0</td>\n",
       "      <td>0</td>\n",
       "      <td>...</td>\n",
       "      <td>0</td>\n",
       "      <td>0</td>\n",
       "      <td>0</td>\n",
       "      <td>0</td>\n",
       "      <td>0</td>\n",
       "      <td>0</td>\n",
       "      <td>0</td>\n",
       "      <td>0</td>\n",
       "      <td>0</td>\n",
       "      <td>0</td>\n",
       "    </tr>\n",
       "    <tr>\n",
       "      <th>426879</th>\n",
       "      <td>0</td>\n",
       "      <td>0</td>\n",
       "      <td>0</td>\n",
       "      <td>0</td>\n",
       "      <td>1</td>\n",
       "      <td>0</td>\n",
       "      <td>0</td>\n",
       "      <td>0</td>\n",
       "      <td>0</td>\n",
       "      <td>0</td>\n",
       "      <td>...</td>\n",
       "      <td>0</td>\n",
       "      <td>0</td>\n",
       "      <td>0</td>\n",
       "      <td>0</td>\n",
       "      <td>0</td>\n",
       "      <td>0</td>\n",
       "      <td>0</td>\n",
       "      <td>0</td>\n",
       "      <td>0</td>\n",
       "      <td>0</td>\n",
       "    </tr>\n",
       "  </tbody>\n",
       "</table>\n",
       "<p>252933 rows × 42 columns</p>\n",
       "</div>"
      ],
      "text/plain": [
       "        acura  alfa-romeo  aston-martin  audi  bmw  buick  cadillac  \\\n",
       "27          0           0             0     0    0      0         0   \n",
       "28          0           0             0     0    0      0         0   \n",
       "29          0           0             0     0    0      0         0   \n",
       "30          0           0             0     0    0      0         0   \n",
       "32          0           0             0     0    0      0         0   \n",
       "...       ...         ...           ...   ...  ...    ...       ...   \n",
       "426875      0           0             0     0    0      0         0   \n",
       "426876      0           0             0     0    0      0         0   \n",
       "426877      0           0             0     0    0      0         1   \n",
       "426878      0           0             0     0    0      0         0   \n",
       "426879      0           0             0     0    1      0         0   \n",
       "\n",
       "        chevrolet  chrysler  datsun  ...  porsche  ram  rover  saturn  subaru  \\\n",
       "27              0         0       0  ...        0    0      0       0       0   \n",
       "28              1         0       0  ...        0    0      0       0       0   \n",
       "29              1         0       0  ...        0    0      0       0       0   \n",
       "30              0         0       0  ...        0    0      0       0       0   \n",
       "32              0         0       0  ...        0    0      0       0       0   \n",
       "...           ...       ...     ...  ...      ...  ...    ...     ...     ...   \n",
       "426875          0         0       0  ...        0    0      0       0       0   \n",
       "426876          0         0       0  ...        0    0      0       0       0   \n",
       "426877          0         0       0  ...        0    0      0       0       0   \n",
       "426878          0         0       0  ...        0    0      0       0       0   \n",
       "426879          0         0       0  ...        0    0      0       0       0   \n",
       "\n",
       "        tesla  toyota  unknown  volkswagen  volvo  \n",
       "27          0       0        0           0      0  \n",
       "28          0       0        0           0      0  \n",
       "29          0       0        0           0      0  \n",
       "30          0       1        0           0      0  \n",
       "32          0       0        0           0      0  \n",
       "...       ...     ...      ...         ...    ...  \n",
       "426875      0       0        0           0      0  \n",
       "426876      0       0        0           0      1  \n",
       "426877      0       0        0           0      0  \n",
       "426878      0       0        0           0      0  \n",
       "426879      0       0        0           0      0  \n",
       "\n",
       "[252933 rows x 42 columns]"
      ]
     },
     "execution_count": 219,
     "metadata": {},
     "output_type": "execute_result"
    }
   ],
   "source": [
    "manu_encoded"
   ]
  },
  {
   "cell_type": "code",
   "execution_count": 220,
   "metadata": {},
   "outputs": [],
   "source": [
    "encoded_manufacturer = pd.concat([vehicles, manu_encoded], axis=1)"
   ]
  },
  {
   "cell_type": "code",
   "execution_count": 222,
   "metadata": {},
   "outputs": [],
   "source": [
    "del encoded_manufacturer['manufacturer']"
   ]
  },
  {
   "cell_type": "code",
   "execution_count": 231,
   "metadata": {},
   "outputs": [],
   "source": [
    "X = manu_encoded\n",
    "y = vehicles['price']\n",
    "manu_linreg = LinearRegression(fit_intercept=False).fit(X, y)"
   ]
  },
  {
   "cell_type": "code",
   "execution_count": 226,
   "metadata": {},
   "outputs": [
    {
     "data": {
      "text/plain": [
       "array([ 22952.54208306,  28525.23873325,  45687.25      ,  26184.14364249,\n",
       "        21997.97139692,  17993.38659185,  24043.68902023,  21519.1163095 ,\n",
       "        12503.57228535,  19784.53846154,  18024.40280561, 110135.74666667,\n",
       "        13734.71794872,  22693.80035616,  26400.62786563,  10812.28571429,\n",
       "        12539.79528874,  12369.04981075,  22611.06158605,  29788.33537415,\n",
       "        20764.94334252,  12678.89213038,   1319.15384615,  21315.23598715,\n",
       "        23482.92778761,  15012.74043311,  22928.02745542,   5516.68408551,\n",
       "        16990.59473346,  16450.54832962,  14284.30852364,   8812.8647541 ,\n",
       "        34424.46205357,  29351.31458417,  28046.12226776,   6817.95419847,\n",
       "        15173.35442378,  38302.81481481,  18647.04478793,  23021.25935442,\n",
       "        14754.52723961,  23060.72837209])"
      ]
     },
     "execution_count": 226,
     "metadata": {},
     "output_type": "execute_result"
    }
   ],
   "source": [
    "manu_linreg.coef_"
   ]
  },
  {
   "cell_type": "code",
   "execution_count": 233,
   "metadata": {},
   "outputs": [
    {
     "data": {
      "text/plain": [
       "[Text(0.5, 0, 'Manufacturer'),\n",
       " Text(0, 0.5, 'Expected price'),\n",
       " Text(0.5, 1.0, 'Price by manufacturer')]"
      ]
     },
     "execution_count": 233,
     "metadata": {},
     "output_type": "execute_result"
    },
    {
     "data": {
      "image/png": "[encoded data removed]",
      "text/plain": [
       "<Figure size 640x480 with 1 Axes>"
      ]
     },
     "metadata": {},
     "output_type": "display_data"
    }
   ],
   "source": [
    "ax = sns.barplot(x=[colname for colname in manu_encoded.columns], y=manu_linreg.coef_)\n",
    "ax.set_xticklabels(chart.get_xticklabels(), rotation=90, horizontalalignment='right')\n",
    "ax.set(xlabel=\"Manufacturer\", ylabel='Expected price', title='Price by manufacturer')"
   ]
  },
  {
   "cell_type": "markdown",
   "metadata": {},
   "source": [
    "### Modeling\n",
    "\n",
    "With your (almost?) final dataset in hand, it is now time to build some models.  Here, you should build a number of different regression models with the price as the target.  In building your models, you should explore different parameters and be sure to cross-validate your findings."
   ]
  },
  {
   "cell_type": "code",
   "execution_count": 234,
   "metadata": {},
   "outputs": [
    {
     "data": {
      "text/html": [
       "<div>\n",
       "<style scoped>\n",
       "    .dataframe tbody tr th:only-of-type {\n",
       "        vertical-align: middle;\n",
       "    }\n",
       "\n",
       "    .dataframe tbody tr th {\n",
       "        vertical-align: top;\n",
       "    }\n",
       "\n",
       "    .dataframe thead th {\n",
       "        text-align: right;\n",
       "    }\n",
       "</style>\n",
       "<table border=\"1\" class=\"dataframe\">\n",
       "  <thead>\n",
       "    <tr style=\"text-align: right;\">\n",
       "      <th></th>\n",
       "      <th>id</th>\n",
       "      <th>region</th>\n",
       "      <th>price</th>\n",
       "      <th>year</th>\n",
       "      <th>manufacturer</th>\n",
       "      <th>condition</th>\n",
       "      <th>cylinders</th>\n",
       "      <th>fuel</th>\n",
       "      <th>odometer</th>\n",
       "      <th>title_status</th>\n",
       "      <th>transmission</th>\n",
       "      <th>drive</th>\n",
       "      <th>size</th>\n",
       "      <th>type</th>\n",
       "      <th>paint_color</th>\n",
       "      <th>state</th>\n",
       "    </tr>\n",
       "  </thead>\n",
       "  <tbody>\n",
       "    <tr>\n",
       "      <th>54495</th>\n",
       "      <td>7316727916</td>\n",
       "      <td>san diego</td>\n",
       "      <td>10000</td>\n",
       "      <td>1997</td>\n",
       "      <td>land rover</td>\n",
       "      <td>excellent</td>\n",
       "      <td>8 cylinders</td>\n",
       "      <td>gas</td>\n",
       "      <td>117115.0</td>\n",
       "      <td>clean</td>\n",
       "      <td>automatic</td>\n",
       "      <td>4wd</td>\n",
       "      <td>mid-size</td>\n",
       "      <td>offroad</td>\n",
       "      <td>red</td>\n",
       "      <td>ca</td>\n",
       "    </tr>\n",
       "    <tr>\n",
       "      <th>295078</th>\n",
       "      <td>7316981015</td>\n",
       "      <td>columbus</td>\n",
       "      <td>3199</td>\n",
       "      <td>2002</td>\n",
       "      <td>land rover</td>\n",
       "      <td>good</td>\n",
       "      <td>unknown</td>\n",
       "      <td>gas</td>\n",
       "      <td>145688.0</td>\n",
       "      <td>clean</td>\n",
       "      <td>automatic</td>\n",
       "      <td>unknown</td>\n",
       "      <td>unknown</td>\n",
       "      <td>SUV</td>\n",
       "      <td>unknown</td>\n",
       "      <td>oh</td>\n",
       "    </tr>\n",
       "    <tr>\n",
       "      <th>311457</th>\n",
       "      <td>7314876666</td>\n",
       "      <td>bend</td>\n",
       "      <td>0</td>\n",
       "      <td>2015</td>\n",
       "      <td>land rover</td>\n",
       "      <td>other</td>\n",
       "      <td>unknown</td>\n",
       "      <td>gas</td>\n",
       "      <td>11050.0</td>\n",
       "      <td>clean</td>\n",
       "      <td>automatic</td>\n",
       "      <td>rwd</td>\n",
       "      <td>unknown</td>\n",
       "      <td>sedan</td>\n",
       "      <td>unknown</td>\n",
       "      <td>or</td>\n",
       "    </tr>\n",
       "    <tr>\n",
       "      <th>312514</th>\n",
       "      <td>7311399404</td>\n",
       "      <td>bend</td>\n",
       "      <td>0</td>\n",
       "      <td>2015</td>\n",
       "      <td>land rover</td>\n",
       "      <td>other</td>\n",
       "      <td>unknown</td>\n",
       "      <td>gas</td>\n",
       "      <td>11050.0</td>\n",
       "      <td>clean</td>\n",
       "      <td>automatic</td>\n",
       "      <td>rwd</td>\n",
       "      <td>unknown</td>\n",
       "      <td>sedan</td>\n",
       "      <td>unknown</td>\n",
       "      <td>or</td>\n",
       "    </tr>\n",
       "    <tr>\n",
       "      <th>313537</th>\n",
       "      <td>7307724394</td>\n",
       "      <td>bend</td>\n",
       "      <td>0</td>\n",
       "      <td>2015</td>\n",
       "      <td>land rover</td>\n",
       "      <td>other</td>\n",
       "      <td>unknown</td>\n",
       "      <td>gas</td>\n",
       "      <td>11050.0</td>\n",
       "      <td>clean</td>\n",
       "      <td>automatic</td>\n",
       "      <td>rwd</td>\n",
       "      <td>unknown</td>\n",
       "      <td>sedan</td>\n",
       "      <td>unknown</td>\n",
       "      <td>or</td>\n",
       "    </tr>\n",
       "    <tr>\n",
       "      <th>316581</th>\n",
       "      <td>7314876569</td>\n",
       "      <td>eugene</td>\n",
       "      <td>0</td>\n",
       "      <td>2015</td>\n",
       "      <td>land rover</td>\n",
       "      <td>other</td>\n",
       "      <td>unknown</td>\n",
       "      <td>gas</td>\n",
       "      <td>11050.0</td>\n",
       "      <td>clean</td>\n",
       "      <td>automatic</td>\n",
       "      <td>rwd</td>\n",
       "      <td>unknown</td>\n",
       "      <td>sedan</td>\n",
       "      <td>unknown</td>\n",
       "      <td>or</td>\n",
       "    </tr>\n",
       "    <tr>\n",
       "      <th>317663</th>\n",
       "      <td>7311399272</td>\n",
       "      <td>eugene</td>\n",
       "      <td>0</td>\n",
       "      <td>2015</td>\n",
       "      <td>land rover</td>\n",
       "      <td>other</td>\n",
       "      <td>unknown</td>\n",
       "      <td>gas</td>\n",
       "      <td>11050.0</td>\n",
       "      <td>clean</td>\n",
       "      <td>automatic</td>\n",
       "      <td>rwd</td>\n",
       "      <td>unknown</td>\n",
       "      <td>sedan</td>\n",
       "      <td>unknown</td>\n",
       "      <td>or</td>\n",
       "    </tr>\n",
       "    <tr>\n",
       "      <th>319367</th>\n",
       "      <td>7314876445</td>\n",
       "      <td>medford-ashland</td>\n",
       "      <td>0</td>\n",
       "      <td>2015</td>\n",
       "      <td>land rover</td>\n",
       "      <td>other</td>\n",
       "      <td>unknown</td>\n",
       "      <td>gas</td>\n",
       "      <td>11050.0</td>\n",
       "      <td>clean</td>\n",
       "      <td>automatic</td>\n",
       "      <td>rwd</td>\n",
       "      <td>unknown</td>\n",
       "      <td>sedan</td>\n",
       "      <td>unknown</td>\n",
       "      <td>or</td>\n",
       "    </tr>\n",
       "    <tr>\n",
       "      <th>319802</th>\n",
       "      <td>7311399143</td>\n",
       "      <td>medford-ashland</td>\n",
       "      <td>0</td>\n",
       "      <td>2015</td>\n",
       "      <td>land rover</td>\n",
       "      <td>other</td>\n",
       "      <td>unknown</td>\n",
       "      <td>gas</td>\n",
       "      <td>11050.0</td>\n",
       "      <td>clean</td>\n",
       "      <td>automatic</td>\n",
       "      <td>rwd</td>\n",
       "      <td>unknown</td>\n",
       "      <td>sedan</td>\n",
       "      <td>unknown</td>\n",
       "      <td>or</td>\n",
       "    </tr>\n",
       "    <tr>\n",
       "      <th>320238</th>\n",
       "      <td>7307724200</td>\n",
       "      <td>medford-ashland</td>\n",
       "      <td>0</td>\n",
       "      <td>2015</td>\n",
       "      <td>land rover</td>\n",
       "      <td>other</td>\n",
       "      <td>unknown</td>\n",
       "      <td>gas</td>\n",
       "      <td>11050.0</td>\n",
       "      <td>clean</td>\n",
       "      <td>automatic</td>\n",
       "      <td>rwd</td>\n",
       "      <td>unknown</td>\n",
       "      <td>sedan</td>\n",
       "      <td>unknown</td>\n",
       "      <td>or</td>\n",
       "    </tr>\n",
       "    <tr>\n",
       "      <th>320619</th>\n",
       "      <td>7304138921</td>\n",
       "      <td>medford-ashland</td>\n",
       "      <td>0</td>\n",
       "      <td>2015</td>\n",
       "      <td>land rover</td>\n",
       "      <td>other</td>\n",
       "      <td>unknown</td>\n",
       "      <td>gas</td>\n",
       "      <td>11050.0</td>\n",
       "      <td>clean</td>\n",
       "      <td>automatic</td>\n",
       "      <td>rwd</td>\n",
       "      <td>unknown</td>\n",
       "      <td>sedan</td>\n",
       "      <td>unknown</td>\n",
       "      <td>or</td>\n",
       "    </tr>\n",
       "    <tr>\n",
       "      <th>322480</th>\n",
       "      <td>7316795346</td>\n",
       "      <td>portland</td>\n",
       "      <td>0</td>\n",
       "      <td>2015</td>\n",
       "      <td>land rover</td>\n",
       "      <td>other</td>\n",
       "      <td>unknown</td>\n",
       "      <td>gas</td>\n",
       "      <td>11050.0</td>\n",
       "      <td>clean</td>\n",
       "      <td>automatic</td>\n",
       "      <td>rwd</td>\n",
       "      <td>unknown</td>\n",
       "      <td>sedan</td>\n",
       "      <td>unknown</td>\n",
       "      <td>or</td>\n",
       "    </tr>\n",
       "    <tr>\n",
       "      <th>333259</th>\n",
       "      <td>7314611534</td>\n",
       "      <td>philadelphia</td>\n",
       "      <td>3950</td>\n",
       "      <td>2004</td>\n",
       "      <td>land rover</td>\n",
       "      <td>excellent</td>\n",
       "      <td>6 cylinders</td>\n",
       "      <td>gas</td>\n",
       "      <td>72000.0</td>\n",
       "      <td>clean</td>\n",
       "      <td>automatic</td>\n",
       "      <td>4wd</td>\n",
       "      <td>mid-size</td>\n",
       "      <td>SUV</td>\n",
       "      <td>grey</td>\n",
       "      <td>pa</td>\n",
       "    </tr>\n",
       "  </tbody>\n",
       "</table>\n",
       "</div>"
      ],
      "text/plain": [
       "                id           region  price  year manufacturer  condition  \\\n",
       "54495   7316727916        san diego  10000  1997   land rover  excellent   \n",
       "295078  7316981015         columbus   3199  2002   land rover       good   \n",
       "311457  7314876666             bend      0  2015   land rover      other   \n",
       "312514  7311399404             bend      0  2015   land rover      other   \n",
       "313537  7307724394             bend      0  2015   land rover      other   \n",
       "316581  7314876569           eugene      0  2015   land rover      other   \n",
       "317663  7311399272           eugene      0  2015   land rover      other   \n",
       "319367  7314876445  medford-ashland      0  2015   land rover      other   \n",
       "319802  7311399143  medford-ashland      0  2015   land rover      other   \n",
       "320238  7307724200  medford-ashland      0  2015   land rover      other   \n",
       "320619  7304138921  medford-ashland      0  2015   land rover      other   \n",
       "322480  7316795346         portland      0  2015   land rover      other   \n",
       "333259  7314611534     philadelphia   3950  2004   land rover  excellent   \n",
       "\n",
       "          cylinders fuel  odometer title_status transmission    drive  \\\n",
       "54495   8 cylinders  gas  117115.0        clean    automatic      4wd   \n",
       "295078      unknown  gas  145688.0        clean    automatic  unknown   \n",
       "311457      unknown  gas   11050.0        clean    automatic      rwd   \n",
       "312514      unknown  gas   11050.0        clean    automatic      rwd   \n",
       "313537      unknown  gas   11050.0        clean    automatic      rwd   \n",
       "316581      unknown  gas   11050.0        clean    automatic      rwd   \n",
       "317663      unknown  gas   11050.0        clean    automatic      rwd   \n",
       "319367      unknown  gas   11050.0        clean    automatic      rwd   \n",
       "319802      unknown  gas   11050.0        clean    automatic      rwd   \n",
       "320238      unknown  gas   11050.0        clean    automatic      rwd   \n",
       "320619      unknown  gas   11050.0        clean    automatic      rwd   \n",
       "322480      unknown  gas   11050.0        clean    automatic      rwd   \n",
       "333259  6 cylinders  gas   72000.0        clean    automatic      4wd   \n",
       "\n",
       "            size     type paint_color state  \n",
       "54495   mid-size  offroad         red    ca  \n",
       "295078   unknown      SUV     unknown    oh  \n",
       "311457   unknown    sedan     unknown    or  \n",
       "312514   unknown    sedan     unknown    or  \n",
       "313537   unknown    sedan     unknown    or  \n",
       "316581   unknown    sedan     unknown    or  \n",
       "317663   unknown    sedan     unknown    or  \n",
       "319367   unknown    sedan     unknown    or  \n",
       "319802   unknown    sedan     unknown    or  \n",
       "320238   unknown    sedan     unknown    or  \n",
       "320619   unknown    sedan     unknown    or  \n",
       "322480   unknown    sedan     unknown    or  \n",
       "333259  mid-size      SUV        grey    pa  "
      ]
     },
     "execution_count": 234,
     "metadata": {},
     "output_type": "execute_result"
    }
   ],
   "source": [
    "vehicles[ vehicles['manufacturer'] == 'land rover']"
   ]
  },
  {
   "cell_type": "code",
   "execution_count": 243,
   "metadata": {},
   "outputs": [
    {
     "data": {
      "text/plain": [
       "<Axes: xlabel='odometer', ylabel='price'>"
      ]
     },
     "execution_count": 243,
     "metadata": {},
     "output_type": "execute_result"
    },
    {
     "data": {
      "image/png": "[encoded data removed]",
      "text/plain": [
       "<Figure size 640x480 with 1 Axes>"
      ]
     },
     "metadata": {},
     "output_type": "display_data"
    }
   ],
   "source": [
    "sns.scatterplot(vehicles[ (vehicles['price'] < 800000) & (vehicles['odometer'] < 300000)], x='odometer', y='price', hue='manufacturer')"
   ]
  },
  {
   "cell_type": "markdown",
   "metadata": {},
   "source": [
    "Clearly there is a relationship between odometer reading and price as well. It looks like a negative correlation"
   ]
  },
  {
   "cell_type": "code",
   "execution_count": 281,
   "metadata": {},
   "outputs": [
    {
     "name": "stdout",
     "output_type": "stream",
     "text": [
      "[0.13378946]\n"
     ]
    },
    {
     "data": {
      "image/png": "[encoded data removed]",
      "text/plain": [
       "<Figure size 640x480 with 1 Axes>"
      ]
     },
     "metadata": {},
     "output_type": "display_data"
    }
   ],
   "source": [
    "model = LinearRegression(fit_intercept=False)\n",
    "vehicles = vehicles[ (vehicles['price'] < 800000) & (vehicles['odometer'] < 300000)]\n",
    "X = vehicles[['odometer']]\n",
    "y = vehicles['price']\n",
    "X_train, X_test, y_train, y_test = train_test_split(X, y, test_size=0.2, random_state=0)\n",
    "odometer_linreg = model.fit(X_train, y_train)\n",
    "\n",
    "y_pred = odometer_linreg.predict(X_test)\n",
    "\n",
    "\n",
    "\n",
    "print(odometer_linreg.coef_)\n",
    "\n",
    "plt.scatter(X_train, y_train,color='g')\n",
    "plt.plot(X_test, y_pred,color='k')\n",
    "\n",
    "plt.show()\n",
    "\n"
   ]
  },
  {
   "cell_type": "raw",
   "metadata": {},
   "source": [
    "Here the graph shows a positive correlation between odometer reading and price. Which doesn't make any sense."
   ]
  },
  {
   "cell_type": "code",
   "execution_count": 290,
   "metadata": {},
   "outputs": [],
   "source": [
    "data = pd.get_dummies(vehicles)"
   ]
  },
  {
   "cell_type": "code",
   "execution_count": 294,
   "metadata": {},
   "outputs": [
    {
     "name": "stdout",
     "output_type": "stream",
     "text": [
      "RMSE scores for each fold: [5.12707113e-11 2.05207718e-10 5.56948674e-12 1.49857075e-10\n",
      " 1.21642474e-11]\n",
      "Mean RMSE: 8.481384766235608e-11\n",
      "Standard deviation of RMSE: 7.925664710913044e-11\n"
     ]
    }
   ],
   "source": [
    "scaler = StandardScaler()\n",
    "data[['year', 'odometer']] = scaler.fit_transform(data[['year', 'odometer']])\n",
    "y = data['price']\n",
    "X = data\n",
    "model = LinearRegression()\n",
    "\n",
    "scores = cross_val_score(model, X, y, cv=5, scoring='neg_mean_squared_error')\n",
    "\n",
    "# Convert negative MSE scores to RMSE scores\n",
    "rmse_scores = (-scores) ** 0.5\n",
    "\n",
    "print(\"RMSE scores for each fold:\", rmse_scores)\n",
    "print(\"Mean RMSE:\", rmse_scores.mean())\n",
    "print(\"Standard deviation of RMSE:\", rmse_scores.std())"
   ]
  },
  {
   "cell_type": "markdown",
   "metadata": {},
   "source": [
    "### Evaluation\n",
    "\n",
    "With some modeling accomplished, we aim to reflect on what we identify as a high quality model and what we are able to learn from this.  We should review our business objective and explore how well we can provide meaningful insight on drivers of used car prices.  Your goal now is to distill your findings and determine whether the earlier phases need revisitation and adjustment or if you have information of value to bring back to your client."
   ]
  },
  {
   "cell_type": "code",
   "execution_count": null,
   "metadata": {},
   "outputs": [],
   "source": []
  },
  {
   "cell_type": "code",
   "execution_count": null,
   "metadata": {},
   "outputs": [],
   "source": []
  },
  {
   "cell_type": "code",
   "execution_count": null,
   "metadata": {},
   "outputs": [],
   "source": []
  },
  {
   "cell_type": "code",
   "execution_count": null,
   "metadata": {},
   "outputs": [],
   "source": []
  },
  {
   "cell_type": "code",
   "execution_count": null,
   "metadata": {},
   "outputs": [],
   "source": []
  },
  {
   "cell_type": "code",
   "execution_count": null,
   "metadata": {},
   "outputs": [],
   "source": []
  },
  {
   "cell_type": "markdown",
   "metadata": {},
   "source": [
    "### Deployment\n",
    "\n",
    "Now that we've settled on our models and findings, it is time to deliver the information to the client.  You should organize your work as a basic report that details your primary findings.  Keep in mind that your audience is a group of used car dealers interested in fine tuning their inventory."
   ]
  },
  {
   "cell_type": "code",
   "execution_count": null,
   "metadata": {},
   "outputs": [],
   "source": []
  },
  {
   "cell_type": "code",
   "execution_count": null,
   "metadata": {},
   "outputs": [],
   "source": []
  },
  {
   "cell_type": "code",
   "execution_count": null,
   "metadata": {},
   "outputs": [],
   "source": []
  },
  {
   "cell_type": "code",
   "execution_count": null,
   "metadata": {},
   "outputs": [],
   "source": []
  },
  {
   "cell_type": "code",
   "execution_count": null,
   "metadata": {},
   "outputs": [],
   "source": []
  },
  {
   "cell_type": "code",
   "execution_count": null,
   "metadata": {},
   "outputs": [],
   "source": []
  },
  {
   "cell_type": "code",
   "execution_count": null,
   "metadata": {},
   "outputs": [],
   "source": []
  }
 ],
 "metadata": {
  "kernelspec": {
   "display_name": "Python 3 (ipykernel)",
   "language": "python",
   "name": "python3"
  },
  "language_info": {
   "codemirror_mode": {
    "name": "ipython",
    "version": 3
   },
   "file_extension": ".py",
   "mimetype": "text/x-python",
   "name": "python",
   "nbconvert_exporter": "python",
   "pygments_lexer": "ipython3",
   "version": "3.10.9"
  },
  "widgets": {
   "application/vnd.jupyter.widget-state+json": {
    "state": {},
    "version_major": 2,
    "version_minor": 0
   }
  }
 },
 "nbformat": 4,
 "nbformat_minor": 4
}
